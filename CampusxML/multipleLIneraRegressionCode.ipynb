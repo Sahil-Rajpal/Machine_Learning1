{
 "cells": [
  {
   "cell_type": "markdown",
   "id": "94832f39-cee4-41af-80cb-cba78f69acac",
   "metadata": {},
   "source": [
    "https://github.com/campusx-official/100-days-of-machine-learning/blob/main/day50-multiple-linear-regression/multiple_linear_regression.ipynb"
   ]
  },
  {
   "cell_type": "code",
   "execution_count": null,
   "id": "51bc81fb-5a82-4857-bb71-867cc506e19d",
   "metadata": {},
   "outputs": [],
   "source": []
  }
 ],
 "metadata": {
  "kernelspec": {
   "display_name": "Python 3 (ipykernel)",
   "language": "python",
   "name": "python3"
  },
  "language_info": {
   "codemirror_mode": {
    "name": "ipython",
    "version": 3
   },
   "file_extension": ".py",
   "mimetype": "text/x-python",
   "name": "python",
   "nbconvert_exporter": "python",
   "pygments_lexer": "ipython3",
   "version": "3.11.5"
  }
 },
 "nbformat": 4,
 "nbformat_minor": 5
}
